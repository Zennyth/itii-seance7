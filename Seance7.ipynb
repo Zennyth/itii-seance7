{
  "nbformat": 4,
  "nbformat_minor": 0,
  "metadata": {
    "colab": {
      "name": "Seance7.ipynb",
      "provenance": [],
      "collapsed_sections": [],
      "include_colab_link": true
    },
    "kernelspec": {
      "name": "python3",
      "display_name": "Python 3"
    }
  },
  "cells": [
    {
      "cell_type": "markdown",
      "metadata": {
        "id": "view-in-github",
        "colab_type": "text"
      },
      "source": [
        "<a href=\"https://colab.research.google.com/github/Zennyth/itii-seance7/blob/master/Seance7.ipynb\" target=\"_parent\"><img src=\"https://colab.research.google.com/assets/colab-badge.svg\" alt=\"Open In Colab\"/></a>"
      ]
    },
    {
      "cell_type": "markdown",
      "metadata": {
        "id": "itrY3ojU4vAv"
      },
      "source": [
        "En utilisant numpy:\n",
        "\n",
        "Ex 1 :Addition Écrire un programme pour lire les éléments de deux matrices et ajoutez les deux matrices dans la troisième.\n",
        "\n",
        "La somme de deux matrices de taille (m,n), $(A_{ij}) et (B_{ij}) notée $A+B$  est à nouveau une matrice (C_{ij}) de taille (m,n), obtenue en additionnant les éléments correspondants: $c{ij}=a{ij}+b_{ij}$"
      ]
    },
    {
      "cell_type": "code",
      "metadata": {
        "colab": {
          "base_uri": "https://localhost:8080/"
        },
        "id": "Iv1MSDrh4zMP",
        "outputId": "1093c8f4-620a-4aa4-e78b-9a4e887428c4"
      },
      "source": [
        "import numpy as np\n",
        "\n",
        "A = np.array([ [1, 2, 3], [4, 5, 6], [7, 8, 9] ])\n",
        "B = np.array([ [9, 8, 7], [6, 5, 4], [3, 2, 1] ])\n",
        "\n",
        "X = A+B\n",
        "print(\"A : \",A)\n",
        "print(\"B : \",B)\n",
        "print(\"A + B : \",X)"
      ],
      "execution_count": 1,
      "outputs": [
        {
          "output_type": "stream",
          "text": [
            "A :  [[1 2 3]\n",
            " [4 5 6]\n",
            " [7 8 9]]\n",
            "B :  [[9 8 7]\n",
            " [6 5 4]\n",
            " [3 2 1]]\n",
            "A + B :  [[10 10 10]\n",
            " [10 10 10]\n",
            " [10 10 10]]\n"
          ],
          "name": "stdout"
        }
      ]
    },
    {
      "cell_type": "markdown",
      "metadata": {
        "id": "oI91HC2a41YA"
      },
      "source": [
        "\n",
        "Ex2 :Multiplication Écrire un programme pour lire les éléments de deux matrices, puis multipliez les deux matrices dans la troisième.\n",
        "\n",
        "Deux matrices ne peuvent être multipliées que si le nombre de colonnes de la première matrice est le même que le nombre de lignes de la seconde matrice.\n",
        "\n",
        "Si $ A=(a_{ij})$ est une matrice de taille (m,n), $ B=(b_{ij})$ et est une matrice de taille (n,p), alors leur produit, noté $AB=(c_{ij})$ est une matrice de taille (m,p) définie par :$$\\forall i,j : c_{ij}=\\sum_{k=i}^{n} a_{ik}*b_{kj}$$"
      ]
    },
    {
      "cell_type": "code",
      "metadata": {
        "colab": {
          "base_uri": "https://localhost:8080/"
        },
        "id": "IjICpKZ945BU",
        "outputId": "936c5821-edb3-4a9d-d421-975041c2154d"
      },
      "source": [
        "import numpy as np\n",
        "\n",
        "A = np.array([ [1, 2, 3], [4, 5, 6], [7, 8, 9] ])\n",
        "B = np.array([ [9, 8, 7], [6, 5, 4], [3, 2, 1] ])\n",
        "\n",
        "# A = np.array([ [2, 1], [3, 2] ])\n",
        "# B = np.array([ [1, -1], [1, 2] ])\n",
        "\n",
        "def multiply(A, B):\n",
        "  res = np.zeros((A.shape[0],B.shape[1]))\n",
        "  if A.shape[1] == B.shape[0]:\n",
        "    for i in range(A.shape[0]):\n",
        "      for j in range(B.shape[1]):\n",
        "        sum = 0\n",
        "        for k in range(A.shape[1]):\n",
        "          sum += A[i][k]*B[k][j]\n",
        "        res[i][j] = sum\n",
        "    return res\n",
        "  else:\n",
        "    print(\"Les deux matrices ne peuvent pas être multipliées\")\n",
        "\n",
        "\n",
        "print(\"A : \",A)\n",
        "print(\"B : \",B)\n",
        "print(\"A + B : \",multiply(A,B))"
      ],
      "execution_count": 38,
      "outputs": [
        {
          "output_type": "stream",
          "text": [
            "A :  [[1 2 3]\n",
            " [4 5 6]\n",
            " [7 8 9]]\n",
            "B :  [[9 8 7]\n",
            " [6 5 4]\n",
            " [3 2 1]]\n",
            "A + B :  [[ 30.  24.  18.]\n",
            " [ 84.  69.  54.]\n",
            " [138. 114.  90.]]\n"
          ],
          "name": "stdout"
        }
      ]
    },
    {
      "cell_type": "markdown",
      "metadata": {
        "id": "Ay2cO-t646R7"
      },
      "source": [
        "\n",
        "Ex 3: Matrice de Markov\n",
        "\n",
        "Une matrice de Markov est une matrice carrée dont chaque élément est un réel compris entre 0 et 1 et dont la somme des éléments de chaque ligne vaut 1. Cela correspond, en probabilité, à la matrice de transition d'une chaîne de Markov finie.\n",
        "\n",
        "Une matrice est dite bistochastique (ou doublement stochastique) si la somme des éléments de chaque ligne et de chaque colonne vaut 1.\n",
        "\n",
        "Ecrire une fonction eststochastique(P) qui permet de vérifier est ce que la matrice P est stochastique ou non\n",
        "Ecrire une fonction estbistochastique(P) qui permet de vérifier est ce que la matrice P est bistochastique ou non\n",
        "Ecrire une fonction vecteurstable(G, h) qui permet de vérifier est ce que h est un vecteur stable de G ou non"
      ]
    },
    {
      "cell_type": "code",
      "metadata": {
        "id": "Ss0SdRVi49XD"
      },
      "source": [
        "def isstochastique(P):\n",
        "    nl = len(P)  # number of lines\n",
        "    nc = len(P[0])  # number of columns\n",
        " \n",
        "    state = True\n",
        "    for i in range(nl):\n",
        "        s = 0\n",
        "        for j in range(nc):\n",
        "            s += P[i][j]\n",
        "        if s > 1:\n",
        "            state = False\n",
        "            break\n",
        "    return state\n",
        " \n",
        " \n",
        "def isbistochastique(P):\n",
        "    nl = len(P)  # number of lines\n",
        "    nc = len(P[0])  # number of columns\n",
        " \n",
        "    state = True \n",
        "    if(isstochastique(P)):\n",
        "        for j in range(nc):\n",
        "            s = 0\n",
        "            for i in range(nl):\n",
        "                s += P[i][j]\n",
        "            if s > 1:\n",
        "                state = False\n",
        "                break\n",
        "    return state\n",
        " \n",
        " \n",
        "def vecteurstable(G, h):\n",
        "    nl = len(G)  # number of lines\n",
        "    nc = len(G[0])  # number of columns\n",
        "    state = True\n",
        "    if(isstochastique(G)):\n",
        "        for j in range(nc):\n",
        "            s = 0\n",
        "            for i in range(nl):\n",
        "                s += h[i]*G[i][j]\n",
        "            if s != h[j]:\n",
        "                state = False\n",
        "                break\n",
        "    else:\n",
        "        state = False\n",
        "    return state"
      ],
      "execution_count": null,
      "outputs": []
    },
    {
      "cell_type": "markdown",
      "metadata": {
        "id": "M3zhE1Je5BLY"
      },
      "source": [
        "\n",
        "Ex 4: Transposer\n",
        "\n",
        "Programmer une fonction qui, étant donné une matrice à deux dimensions A, retourne lamatrice B dont la première colonne est la première ligne de A, la seconde la deuxième ligne de A, etc. B s’appelle la transposée de A."
      ]
    },
    {
      "cell_type": "code",
      "metadata": {
        "colab": {
          "base_uri": "https://localhost:8080/"
        },
        "id": "lOBcC1T75C-c",
        "outputId": "2e1777ab-0ad0-4b91-9608-190c6096411f"
      },
      "source": [
        "A = np.array([ [1, -1], [1, 2] ])\n",
        "\n",
        "def transpose(A):\n",
        "  if A.shape[0] == 2 and A.shape[1] == 2:\n",
        "    res = np.zeros((A.shape[0], A.shape[1]))\n",
        "    res[0][1] = A[1][0]\n",
        "    res[1][0] = A[0][1]\n",
        "    res[1][1] = A[0][0]\n",
        "    res[0][0] = A[1][1]\n",
        "    return res\n",
        "  else:\n",
        "    print(\"Cette matrcie n'est pas au format 2*2\")\n",
        "\n",
        "print(transpose(A))"
      ],
      "execution_count": 41,
      "outputs": [
        {
          "output_type": "stream",
          "text": [
            "[[ 2.  1.]\n",
            " [-1.  1.]]\n"
          ],
          "name": "stdout"
        }
      ]
    },
    {
      "cell_type": "markdown",
      "metadata": {
        "id": "N9L_N7o-5DU4"
      },
      "source": [
        "\n",
        "Ex 5: Permutations\n",
        "\n",
        "$M$ désignant une matrice quelconque d’entiers à $l_i$ lignes et $co$ colonnes, $n$ un entier quelconque, programmer une fonction qui retourne la matrice $Sortie$ qui empile verticalement les $co+1$ matrices obtenues en adjoignant à $M$ une colonne $A$ à $li$ lignes dont tous les éléments sont égaux à $n$, $A$ étant placée d’abord devant $M$, puis entre la première et deuxième colonne de $M^a$,etc, jusqu’à ce que $A$ devienne sa dernière colonne. La matrice obtenue aura $co+1$ colonnes et $(n+1)$ $li$ lignes\n",
        "\n",
        "Écrire toutes les permutations de(1, ..., n)"
      ]
    },
    {
      "cell_type": "code",
      "metadata": {
        "colab": {
          "base_uri": "https://localhost:8080/"
        },
        "id": "qedDiugM5FNy",
        "outputId": "b9f979e8-9499-4b43-c71f-ddac60d10060"
      },
      "source": [
        "def permutation(M, n):\n",
        "  l = M.shape[0]\n",
        "  c = M.shape[1] + 1\n",
        "  S = np.zeros((l*c, c))\n",
        "  indexAll = 0\n",
        "  for indexMatrice in range(c):\n",
        "    for i in range(l):\n",
        "\n",
        "      realJ = 0\n",
        "      for j in range(c):\n",
        "        if j == indexMatrice:\n",
        "          S[indexAll][j] = n\n",
        "        else:\n",
        "          S[indexAll][j] = M[i][realJ]\n",
        "          realJ+=1\n",
        "\n",
        "      indexAll += 1\n",
        "  return S\n",
        "\n",
        "A = np.array([[1,2,3],[4,5,6],[7,8,9],[10,11,12],[13,14,15],[16,17,18]])\n",
        "permutation(A, 9)"
      ],
      "execution_count": 71,
      "outputs": [
        {
          "output_type": "execute_result",
          "data": {
            "text/plain": [
              "array([[ 9.,  1.,  2.,  3.],\n",
              "       [ 9.,  4.,  5.,  6.],\n",
              "       [ 9.,  7.,  8.,  9.],\n",
              "       [ 9., 10., 11., 12.],\n",
              "       [ 9., 13., 14., 15.],\n",
              "       [ 9., 16., 17., 18.],\n",
              "       [ 1.,  9.,  2.,  3.],\n",
              "       [ 4.,  9.,  5.,  6.],\n",
              "       [ 7.,  9.,  8.,  9.],\n",
              "       [10.,  9., 11., 12.],\n",
              "       [13.,  9., 14., 15.],\n",
              "       [16.,  9., 17., 18.],\n",
              "       [ 1.,  2.,  9.,  3.],\n",
              "       [ 4.,  5.,  9.,  6.],\n",
              "       [ 7.,  8.,  9.,  9.],\n",
              "       [10., 11.,  9., 12.],\n",
              "       [13., 14.,  9., 15.],\n",
              "       [16., 17.,  9., 18.],\n",
              "       [ 1.,  2.,  3.,  9.],\n",
              "       [ 4.,  5.,  6.,  9.],\n",
              "       [ 7.,  8.,  9.,  9.],\n",
              "       [10., 11., 12.,  9.],\n",
              "       [13., 14., 15.,  9.],\n",
              "       [16., 17., 18.,  9.]])"
            ]
          },
          "metadata": {
            "tags": []
          },
          "execution_count": 71
        }
      ]
    }
  ]
}